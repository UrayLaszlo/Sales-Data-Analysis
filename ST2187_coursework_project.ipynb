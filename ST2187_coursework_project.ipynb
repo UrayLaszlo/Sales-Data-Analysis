{
 "cells": [
  {
   "cell_type": "code",
   "execution_count": 1,
   "id": "b75f5716",
   "metadata": {},
   "outputs": [],
   "source": [
    "import pandas as pd\n",
    "import matplotlib.pyplot as plt\n",
    "import numpy as np\n",
    "\n"
   ]
  },
  {
   "cell_type": "code",
   "execution_count": 2,
   "id": "0a56cb64",
   "metadata": {
    "scrolled": true
   },
   "outputs": [
    {
     "name": "stdout",
     "output_type": "stream",
     "text": [
      "   Row ID         Order ID Order Date  Ship Date     Ship Mode Customer ID  \\\n",
      "0   32298   CA-2012-124891 2018-07-31 2018-07-31      Same Day    RH-19495   \n",
      "1   26341    IN-2013-77878 2019-02-05 2019-02-07  Second Class    JR-16210   \n",
      "2   25330    IN-2013-71249 2019-10-17 2019-10-18   First Class    CR-12730   \n",
      "3   13524  ES-2013-1579342 2019-01-28 2019-01-30   First Class    KM-16375   \n",
      "4   47221     SG-2013-4320 2019-11-05 2019-11-06      Same Day     RH-9495   \n",
      "\n",
      "      Customer Name      Segment           City            State  ...  \\\n",
      "0       Rick Hansen     Consumer  New York City         New York  ...   \n",
      "1     Justin Ritter    Corporate     Wollongong  New South Wales  ...   \n",
      "2      Craig Reiter     Consumer       Brisbane       Queensland  ...   \n",
      "3  Katherine Murray  Home Office         Berlin           Berlin  ...   \n",
      "4       Rick Hansen     Consumer          Dakar            Dakar  ...   \n",
      "\n",
      "         Product ID    Category Sub-Category  \\\n",
      "0   TEC-AC-10003033  Technology  Accessories   \n",
      "1   FUR-CH-10003950   Furniture       Chairs   \n",
      "2   TEC-PH-10004664  Technology       Phones   \n",
      "3   TEC-PH-10004583  Technology       Phones   \n",
      "4  TEC-SHA-10000501  Technology      Copiers   \n",
      "\n",
      "                                        Product Name     Sales Quantity  \\\n",
      "0  Plantronics CS510 - Over-the-Head monaural Wir...  2309.650        7   \n",
      "1          Novimex Executive Leather Armchair, Black  3709.395        9   \n",
      "2                  Nokia Smart Phone, with Caller ID  5175.171        9   \n",
      "3                     Motorola Smart Phone, Cordless  2892.510        5   \n",
      "4                     Sharp Wireless Fax, High-Speed  2832.960        8   \n",
      "\n",
      "  Discount    Profit  Shipping Cost  Order Priority  \n",
      "0      0.0  762.1845         933.57        Critical  \n",
      "1      0.1 -288.7650         923.63        Critical  \n",
      "2      0.1  919.9710         915.49          Medium  \n",
      "3      0.1  -96.5400         910.16          Medium  \n",
      "4      0.0  311.5200         903.04        Critical  \n",
      "\n",
      "[5 rows x 24 columns]\n"
     ]
    }
   ],
   "source": [
    "df = pd.read_excel('st2187_coursework_dataset_2022 (1).xlsx')\n",
    "print(df.head())\n"
   ]
  },
  {
   "cell_type": "code",
   "execution_count": 3,
   "id": "8119da90",
   "metadata": {},
   "outputs": [
    {
     "data": {
      "text/plain": [
       "51290"
      ]
     },
     "execution_count": 3,
     "metadata": {},
     "output_type": "execute_result"
    }
   ],
   "source": [
    "df['Order Date'].count()"
   ]
  },
  {
   "cell_type": "code",
   "execution_count": 4,
   "id": "dd7af4e7",
   "metadata": {},
   "outputs": [
    {
     "data": {
      "text/plain": [
       "17492"
      ]
     },
     "execution_count": 4,
     "metadata": {},
     "output_type": "execute_result"
    }
   ],
   "source": [
    "df.loc[df['Ship Date'].astype(str).str.contains('2020'), \n",
    "       'Category'].count()\n",
    "\n"
   ]
  },
  {
   "cell_type": "code",
   "execution_count": 5,
   "id": "a76de5e5",
   "metadata": {},
   "outputs": [
    {
     "name": "stdout",
     "output_type": "stream",
     "text": [
      "2017: 8878\n",
      "2018: 10925\n",
      "2019: 13772\n",
      "2020: 17492\n"
     ]
    }
   ],
   "source": [
    "search_values = ['2017', '2018', '2019', '2020']\n",
    "\n",
    "counts = {val: 0 for val in search_values}\n",
    "\n",
    "for val in df['Ship Date']:\n",
    "    for search_val in search_values:\n",
    "        if search_val in str(val):\n",
    "            counts[search_val] += 1\n",
    "\n",
    "for search_val, count in counts.items():\n",
    "    print(f\"{search_val}: {count}\")\n"
   ]
  },
  {
   "cell_type": "code",
   "execution_count": 6,
   "id": "901f81df",
   "metadata": {
    "scrolled": false
   },
   "outputs": [
    {
     "data": {
      "text/plain": [
       "51290"
      ]
     },
     "execution_count": 6,
     "metadata": {},
     "output_type": "execute_result"
    }
   ],
   "source": [
    "df['Country'].count().sum()#.value_counts()\n"
   ]
  },
  {
   "cell_type": "code",
   "execution_count": 7,
   "id": "c27f341b",
   "metadata": {
    "scrolled": true
   },
   "outputs": [
    {
     "data": {
      "text/plain": [
       "Binders        1670\n",
       "Storage        1319\n",
       "Art            1275\n",
       "Paper           994\n",
       "Chairs          967\n",
       "Phones          896\n",
       "Furnishings     866\n",
       "Accessories     836\n",
       "Envelopes       695\n",
       "Labels          677\n",
       "Fasteners       659\n",
       "Bookcases       642\n",
       "Supplies        638\n",
       "Copiers         585\n",
       "Appliances      458\n",
       "Machines        365\n",
       "Tables          230\n",
       "Name: Sub-Category, dtype: int64"
      ]
     },
     "execution_count": 7,
     "metadata": {},
     "output_type": "execute_result"
    }
   ],
   "source": [
    "df.loc[df['Ship Date'].astype(str).str.contains('2019'),\n",
    "       'Sub-Category'].value_counts()\n",
    "\n"
   ]
  },
  {
   "cell_type": "code",
   "execution_count": 8,
   "id": "ada4ff1d",
   "metadata": {},
   "outputs": [
    {
     "data": {
      "text/plain": [
       "count    51290.000000\n",
       "mean        28.610982\n",
       "std        174.340972\n",
       "min      -6599.978000\n",
       "25%          0.000000\n",
       "50%          9.240000\n",
       "75%         36.810000\n",
       "max       8399.976000\n",
       "Name: Profit, dtype: float64"
      ]
     },
     "execution_count": 8,
     "metadata": {},
     "output_type": "execute_result"
    }
   ],
   "source": [
    "df['Profit'].describe()"
   ]
  },
  {
   "cell_type": "code",
   "execution_count": 9,
   "id": "b51a4592",
   "metadata": {},
   "outputs": [],
   "source": [
    "grouped = df.groupby(([df.loc[df['Ship Date'].astype(str).str.contains('2020|2019|2018|2017'),\n",
    "                             'Profit']]))\n",
    "                             "
   ]
  },
  {
   "cell_type": "code",
   "execution_count": 10,
   "id": "2008c3a9",
   "metadata": {},
   "outputs": [
    {
     "data": {
      "text/plain": [
       "Profit\n",
       "-6599.9780    United States\n",
       "-4088.3760           Turkey\n",
       "-3839.9904    United States\n",
       "-3701.8928    United States\n",
       "-3399.9800    United States\n",
       "                  ...      \n",
       " 4630.4755    United States\n",
       " 4946.3700    United States\n",
       " 5039.9856    United States\n",
       " 6719.9808    United States\n",
       " 8399.9760    United States\n",
       "Name: Country, Length: 28136, dtype: object"
      ]
     },
     "execution_count": 10,
     "metadata": {},
     "output_type": "execute_result"
    }
   ],
   "source": [
    "result = grouped['Country'].sum()\n",
    "\n",
    "result\n"
   ]
  },
  {
   "cell_type": "code",
   "execution_count": 18,
   "id": "72e50173",
   "metadata": {},
   "outputs": [
    {
     "data": {
      "text/plain": [
       "pandas.core.frame.DataFrame"
      ]
     },
     "execution_count": 18,
     "metadata": {},
     "output_type": "execute_result"
    }
   ],
   "source": [
    "by_profit = result.reset_index().groupby('Country')['Profit'].sum().reset_index()\n",
    "\n",
    "by_profit = by_profit.sort_values('Profit', ascending=False).reset_index().drop('index', axis=1)\n",
    "type(by_profit[2:4])\n",
    "\n",
    "# type(by_profit[:5])\n",
    "\n",
    "\n",
    "\n",
    "# by_profit['Country'][:5], by_profit['Country'][-5:]\n",
    "\n",
    "# print(\"Top 5 countries by profit: \" + by_profit[5])"
   ]
  },
  {
   "cell_type": "code",
   "execution_count": null,
   "id": "c925a922",
   "metadata": {},
   "outputs": [],
   "source": []
  },
  {
   "cell_type": "code",
   "execution_count": null,
   "id": "0b480024",
   "metadata": {},
   "outputs": [],
   "source": []
  },
  {
   "cell_type": "code",
   "execution_count": null,
   "id": "d8bf8b83",
   "metadata": {},
   "outputs": [],
   "source": []
  }
 ],
 "metadata": {
  "kernelspec": {
   "display_name": "Python 3 (ipykernel)",
   "language": "python",
   "name": "python3"
  },
  "language_info": {
   "codemirror_mode": {
    "name": "ipython",
    "version": 3
   },
   "file_extension": ".py",
   "mimetype": "text/x-python",
   "name": "python",
   "nbconvert_exporter": "python",
   "pygments_lexer": "ipython3",
   "version": "3.9.13"
  }
 },
 "nbformat": 4,
 "nbformat_minor": 5
}
